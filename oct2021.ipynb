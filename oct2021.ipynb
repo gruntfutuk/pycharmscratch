{
 "cells": [
  {
   "cell_type": "code",
   "execution_count": null,
   "outputs": [],
   "source": [
    "import pandas as pd\n",
    "\n",
    "\"\"\"want to extrac lattitude and longitude data from a column containing\n",
    "multiline strings where the lat and long are in the last line in the format\n",
    "(<lat>, <long>)\n",
    "\"\"\"\n",
    "\n",
    "data = [['name', 'geo'],\n",
    "        ['alpha', '145 Here Raod\\nThere, Place\\n(10.7654, -94.54332)'],\n",
    "        ['beta', '12121 Audelia Road\\nDallas, Texas\\n(32.91251, -96.718124)'],\n",
    "        ]\n",
    "\n",
    "df = pd.DataFrame(data[1:], columns=data[0])\n",
    "df[['Lat', 'Long']] = df['geo'].str.rsplit('\\n', n=1).str[1].str.slice(1, -1).str.split(',', expand=True)\n",
    "df"
   ],
   "metadata": {
    "collapsed": false,
    "pycharm": {
     "name": "#%%\n"
    }
   }
  },
  {
   "cell_type": "code",
   "execution_count": null,
   "outputs": [],
   "source": [
    "\"\"\"plotting from pandas\"\"\"\n",
    "\n",
    "import pandas as pd\n",
    "import matplotlib.pyplot as plt\n",
    "from io import StringIO\n",
    "\n",
    "data = \"\"\"Year\tQtr\tTotal\n",
    "A\t2021\t3\t10\n",
    "B\t2022\t1\t5\"\"\"\n",
    "\n",
    "df = pd.read_csv(StringIO(data), sep=\"\\t\")\n",
    "ax = df.plot(x='Year', y=['Qtr', 'Total'], xticks=df['Year'])\n",
    "ax.set_xlabel(\"Year\")\n",
    "ax.set_ylabel(\"Total\")"
   ],
   "metadata": {
    "collapsed": false,
    "pycharm": {
     "name": "#%%\n"
    }
   }
  },
  {
   "cell_type": "code",
   "execution_count": null,
   "outputs": [],
   "source": [
    "    def break_up(string):\n",
    "\n",
    "\n",
    "    chunks = string.split(',')\n",
    "chunked = list(chunks[0])\n",
    "for chunk in chunks[1:]:\n",
    "    chunked[-1] = chunked[-1] + \",\" + chunk[:1]\n",
    "    if len(chunk) > 1:\n",
    "        chunked.extend(chunk[1:])\n",
    "return chunked\n",
    "\n",
    "tests = \"a,bcdeg,hi,jk\", \"abcdt,defg,t\"\n",
    "for test in tests:\n",
    "print(test, '->', break_up(test))"
   ],
   "metadata": {
    "collapsed": false,
    "pycharm": {
     "name": "#%%\n"
    }
   }
  },
  {
   "cell_type": "code",
   "execution_count": null,
   "outputs": [],
   "source": [
    "    from itertools import product\n",
    "\n",
    "tests = [(1, 2), (3, 4)], [(1, 2), (3, 4), (5, 6)]\n",
    "for test in tests:\n",
    "    test_extended = [[e, (e[0] * -1, e[1])] for e in test]\n",
    "    print()\n",
    "    print(test_extended)\n",
    "    for e in list(product(*test_extended)):\n",
    "        print(e)"
   ],
   "metadata": {
    "collapsed": false,
    "pycharm": {
     "name": "#%%\n"
    }
   }
  },
  {
   "cell_type": "code",
   "execution_count": null,
   "outputs": [],
   "source": [
    "for idx, i in enumerate(range(10)):\n",
    "    print(idx, i)"
   ],
   "metadata": {
    "collapsed": false,
    "pycharm": {
     "name": "#%%\n"
    }
   }
  },
  {
   "cell_type": "code",
   "execution_count": null,
   "outputs": [],
   "source": [
    "# Python code to demonstrate enumerations\n",
    "\n",
    "# importing enum for enumerations\n",
    "import enum\n",
    "\n",
    "\n",
    "# creating enumerations using class\n",
    "class Animal(enum.Enum):\n",
    "    dog = 1\n",
    "    cat = 2\n",
    "    lion = 3\n",
    "\n",
    "\n",
    "# printing enum member as string\n",
    "print(\"The string representation of enum member is : \", end=\"\")\n",
    "print(Animal.dog)\n",
    "\n",
    "# printing enum member as repr\n",
    "print(\"The repr representation of enum member is : \", end=\"\")\n",
    "print(repr(Animal.dog))\n",
    "\n",
    "# printing the type of enum member using type()\n",
    "print(\"The type of enum member is : \", end=\"\")\n",
    "print(type(Animal.dog))\n",
    "\n",
    "# printing name of enum member using \"name\" keyword\n",
    "print(\"The name of enum member is : \", end=\"\")\n",
    "print(Animal.dog.name)"
   ],
   "metadata": {
    "collapsed": false,
    "pycharm": {
     "name": "#%%\n"
    }
   }
  },
  {
   "cell_type": "code",
   "execution_count": null,
   "outputs": [],
   "source": [
    "    import itertools\n",
    "from string import digits\n",
    "\n",
    "pins = list(itertools.product(list(digits), repeat=4))\n",
    "pins[-1]"
   ],
   "metadata": {
    "collapsed": false,
    "pycharm": {
     "name": "#%%\n"
    }
   }
  },
  {
   "cell_type": "code",
   "execution_count": 57,
   "outputs": [
    {
     "name": "stdout",
     "output_type": "stream",
     "text": [
      "[5, 4, 7, 2, 7, 8, 9]\n"
     ]
    }
   ],
   "source": [
    "def quicksort1(array):\n",
    "    if len(array) < 2:\n",
    "        return array\n",
    "\n",
    "    array_list = [list() for i in range(3)]\n",
    "\n",
    "    pivot_point = array[np.random.randint(0, len(array) - 1)]\n",
    "\n",
    "    for value in array:\n",
    "        if pivot_point < pivot_point:\n",
    "            array_list[0].append(value)\n",
    "        elif value == pivot_point:\n",
    "            array_list[1].append(value)\n",
    "        elif value > pivot_point:\n",
    "            array_list[2].append(value)\n",
    "\n",
    "    return quicksort(array_list[0]) + array_list[1] + quicksort(array_list[2])\n",
    "\n",
    "\n",
    "a = [5, 4, 7, 2, 7, 8, 9]\n",
    "quicksort1(a)\n",
    "print(a)"
   ],
   "metadata": {
    "collapsed": false,
    "pycharm": {
     "name": "#%%\n"
    }
   }
  },
  {
   "cell_type": "code",
   "execution_count": 58,
   "outputs": [
    {
     "name": "stdout",
     "output_type": "stream",
     "text": [
      "[2, 3, 4, 5, 7, 8, 9]\n"
     ]
    }
   ],
   "source": [
    "class Sorter\n",
    "\n",
    "    def partition(arr, low, high):\n",
    "        i = (low - 1)  # index of smaller element\n",
    "        pivot = arr[high]  # pivot\n",
    "        for j in range(low, high):\n",
    "            if arr[j] <= pivot:\n",
    "                # increment index of smaller element\n",
    "                i = i + 1\n",
    "                arr[i], arr[j] = arr[j], arr[i]\n",
    "        arr[i + 1], arr[high] = arr[high], arr[i + 1]\n",
    "        return (i + 1)\n",
    "\n",
    "    def quicksort(arr, low=0, high=None):\n",
    "        if high is None:\n",
    "            high = len(arr) - 1\n",
    "        if len(arr) == 1:\n",
    "            return arr\n",
    "        if low < high:\n",
    "            pi = partition(arr, low, high)\n",
    "            quicksort(arr, low, pi - 1)\n",
    "            quicksort(arr, pi + 1, high)\n",
    "\n",
    "\n",
    "a = [5, 4, 7, 2, 3, 8, 9]\n",
    "quicksort(a)\n",
    "print(a)"
   ],
   "metadata": {
    "collapsed": false,
    "pycharm": {
     "name": "#%%\n"
    }
   }
  },
  {
   "cell_type": "code",
   "execution_count": 67,
   "outputs": [
    {
     "name": "stdout",
     "output_type": "stream",
     "text": [
      "  id_patient id_stay     name  gender  age\n",
      "0          1      10   'fred'      21  NaN\n",
      "1          2      20   'bert'      31  NaN\n",
      "2          3      30  'wendy'      28  NaN\n",
      "Thank you Doctor\n",
      "I have found the patient you are looking for\n"
     ]
    }
   ],
   "source": [
    "    import pandas as pd\n",
    "    from io import StringIO\n",
    "\n",
    "    data = \"\"\"id_patient,id_stay,name,gender,age\n",
    "    1,10,'fred',21\n",
    "    2,20,'bert',31\n",
    "    3,30,'wendy',28\"\"\"\n",
    "\n",
    "    df = pd.read_csv(StringIO(data))\n",
    "    df[\"id_patient\"] = df[\"id_patient\"].astype('string')\n",
    "    df[\"id_stay\"] = df[\"id_stay\"].astype('string')\n",
    "    print(df)\n",
    "\n",
    "    idpatientL = df[\"id_patient\"].values\n",
    "    idstayL = df[\"id_stay\"].values\n",
    "\n",
    "    choice = input(\"Hello Doctor, what are you trying to access?\\nPlease input 'patient' or 'cohort: \")\n",
    "    if choice == 'patient' or choice == 'cohort':\n",
    "        print('Thank you Doctor')\n",
    "    else:\n",
    "        print('Wrong input you donkey')  # charming\n",
    "\n",
    "    if choice == 'patient':\n",
    "        patient_ID = input('Please input the Patient ID: ')\n",
    "        stay_ID = input('Please input Stay ID: ')\n",
    "    if (patient_ID in idpatientL) & (stay_ID in idstayL):\n",
    "        print('I have found the patient you are looking for')"
   ],
   "metadata": {
    "collapsed": false,
    "pycharm": {
     "name": "#%%\n"
    }
   }
  },
  {
   "cell_type": "code",
   "execution_count": 65,
   "outputs": [
    {
     "data": {
      "text/plain": "False"
     },
     "execution_count": 65,
     "metadata": {},
     "output_type": "execute_result"
    }
   ],
   "source": [
    "idpatientL"
   ],
   "metadata": {
    "collapsed": false,
    "pycharm": {
     "name": "#%%\n"
    }
   }
  },
  {
   "cell_type": "code",
   "execution_count": 62,
   "outputs": [
    {
     "data": {
      "text/plain": "dtype('int64')"
     },
     "execution_count": 62,
     "metadata": {},
     "output_type": "execute_result"
    }
   ],
   "source": [
    "idpatientL.dtype"
   ],
   "metadata": {
    "collapsed": false,
    "pycharm": {
     "name": "#%%\n"
    }
   }
  },
  {
   "cell_type": "code",
   "execution_count": 69,
   "outputs": [
    {
     "ename": "ValueError",
     "evalue": "could not convert string to float: ''",
     "output_type": "error",
     "traceback": [
      "\u001B[0;31m---------------------------------------------------------------------------\u001B[0m",
      "\u001B[0;31mValueError\u001B[0m                                Traceback (most recent call last)",
      "\u001B[0;32m/var/folders/1z/r4sr681d6hqc4ts0hdc0z47w0000gn/T/ipykernel_45242/76014885.py\u001B[0m in \u001B[0;36m<module>\u001B[0;34m\u001B[0m\n\u001B[0;32m----> 1\u001B[0;31m \u001B[0mnum1\u001B[0m \u001B[0;34m=\u001B[0m \u001B[0mfloat\u001B[0m \u001B[0;34m(\u001B[0m\u001B[0minput\u001B[0m \u001B[0;34m(\u001B[0m\u001B[0;34m\"enter the first number:\"\u001B[0m \u001B[0;34m)\u001B[0m\u001B[0;34m)\u001B[0m\u001B[0;34m\u001B[0m\u001B[0;34m\u001B[0m\u001B[0m\n\u001B[0m\u001B[1;32m      2\u001B[0m \u001B[0mop\u001B[0m \u001B[0;34m=\u001B[0m \u001B[0minput\u001B[0m \u001B[0;34m(\u001B[0m\u001B[0;34m\" enter the operator: \"\u001B[0m\u001B[0;34m)\u001B[0m\u001B[0;34m\u001B[0m\u001B[0;34m\u001B[0m\u001B[0m\n\u001B[1;32m      3\u001B[0m \u001B[0mnum2\u001B[0m \u001B[0;34m=\u001B[0m \u001B[0mfloat\u001B[0m \u001B[0;34m(\u001B[0m\u001B[0minput\u001B[0m \u001B[0;34m(\u001B[0m\u001B[0;34m\" enter the second number: \"\u001B[0m\u001B[0;34m)\u001B[0m\u001B[0;34m)\u001B[0m\u001B[0;34m\u001B[0m\u001B[0;34m\u001B[0m\u001B[0m\n\u001B[1;32m      4\u001B[0m \u001B[0;34m\u001B[0m\u001B[0m\n\u001B[1;32m      5\u001B[0m \u001B[0;32mif\u001B[0m \u001B[0mop\u001B[0m \u001B[0;34m==\u001B[0m \u001B[0;34m\"+\"\u001B[0m \u001B[0;34m:\u001B[0m\u001B[0;34m\u001B[0m\u001B[0;34m\u001B[0m\u001B[0m\n",
      "\u001B[0;31mValueError\u001B[0m: could not convert string to float: ''"
     ]
    }
   ],
   "source": [
    "    num1 = float (input (\"enter the first number:\" ))\n",
    "    op = input (\" enter the operator: \")\n",
    "    num2 = float (input (\" enter the second number: \"))\n",
    "\n",
    "    if op == \"+\" :\n",
    "        print (num1 + num2)\n",
    "    elif op == \"-\" :\n",
    "        print (num1 - num2)\n",
    "    elif op == \"/\" :\n",
    "        print (num1 / num2)\n",
    "    elif op == \"*\" :\n",
    "        print (num1 * num2)\n",
    "    else: print(\"invalid operator\")"
   ],
   "metadata": {
    "collapsed": false,
    "pycharm": {
     "name": "#%%\n"
    }
   }
  },
  {
   "cell_type": "code",
   "execution_count": 73,
   "outputs": [
    {
     "name": "stdout",
     "output_type": "stream",
     "text": [
      "2.0 <class 'float'>\n"
     ]
    }
   ],
   "source": [
    "a = 12/6\n",
    "print(a, type(a))"
   ],
   "metadata": {
    "collapsed": false,
    "pycharm": {
     "name": "#%%\n"
    }
   }
  },
  {
   "cell_type": "code",
   "execution_count": 79,
   "outputs": [
    {
     "name": "stderr",
     "output_type": "stream",
     "text": [
      "/var/folders/1z/r4sr681d6hqc4ts0hdc0z47w0000gn/T/ipykernel_45242/3288037915.py:11: FutureWarning: The pandas.datetime class is deprecated and will be removed from pandas in a future version. Import from datetime module instead.\n",
      "  df['age'] = pd.datetime.now().year - df['year']\n"
     ]
    },
    {
     "data": {
      "text/plain": "   year      name       date  age\n0  2002    'fred' 2002-01-01   20\n1  1978     'bob' 1978-01-01   44\n2  1999   'wendy' 1999-01-01   23",
      "text/html": "<div>\n<style scoped>\n    .dataframe tbody tr th:only-of-type {\n        vertical-align: middle;\n    }\n\n    .dataframe tbody tr th {\n        vertical-align: top;\n    }\n\n    .dataframe thead th {\n        text-align: right;\n    }\n</style>\n<table border=\"1\" class=\"dataframe\">\n  <thead>\n    <tr style=\"text-align: right;\">\n      <th></th>\n      <th>year</th>\n      <th>name</th>\n      <th>date</th>\n      <th>age</th>\n    </tr>\n  </thead>\n  <tbody>\n    <tr>\n      <th>0</th>\n      <td>2002</td>\n      <td>'fred'</td>\n      <td>2002-01-01</td>\n      <td>20</td>\n    </tr>\n    <tr>\n      <th>1</th>\n      <td>1978</td>\n      <td>'bob'</td>\n      <td>1978-01-01</td>\n      <td>44</td>\n    </tr>\n    <tr>\n      <th>2</th>\n      <td>1999</td>\n      <td>'wendy'</td>\n      <td>1999-01-01</td>\n      <td>23</td>\n    </tr>\n  </tbody>\n</table>\n</div>"
     },
     "execution_count": 79,
     "metadata": {},
     "output_type": "execute_result"
    }
   ],
   "source": [
    "    import pandas as pd\n",
    "    from io import StringIO\n",
    "\n",
    "    data = \"\"\"year,name\n",
    "    2002,'fred'\n",
    "    1978,'bob'\n",
    "    1999, 'wendy'\"\"\"\n",
    "\n",
    "    df = pd.read_csv(StringIO(data))\n",
    "    df['date'] = pd.to_datetime(df['year'], format='%Y')\n",
    "    df['age'] = pd.datetime.now().year - df['year']\n",
    "    df\n"
   ],
   "metadata": {
    "collapsed": false,
    "pycharm": {
     "name": "#%%\n"
    }
   }
  },
  {
   "cell_type": "code",
   "execution_count": 81,
   "outputs": [
    {
     "name": "stdout",
     "output_type": "stream",
     "text": [
      "It looks like on\n",
      "\n",
      "-Tuesday, 02/01/22\n",
      "-Wednesday, 02/02/22\n"
     ]
    }
   ],
   "source": [
    "    dates = [('Tuesday', '02/01/22'), ('Wednesday', '02/02/22')]\n",
    "    prefix = \"It looks like on\\n\\n\"\n",
    "    options = '\\n'.join(f'-{day}, {date}' for day, date in dates)\n",
    "    msgbox = prefix + options\n",
    "    print(msgbox)  # you would ctypes.windll.user32.MessageBoxW"
   ],
   "metadata": {
    "collapsed": false,
    "pycharm": {
     "name": "#%%\n"
    }
   }
  },
  {
   "cell_type": "code",
   "execution_count": null,
   "outputs": [],
   "source": [],
   "metadata": {
    "collapsed": false,
    "pycharm": {
     "name": "#%%\n"
    }
   }
  }
 ],
 "metadata": {
  "kernelspec": {
   "display_name": "Python 3",
   "language": "python",
   "name": "python3"
  },
  "language_info": {
   "codemirror_mode": {
    "name": "ipython",
    "version": 2
   },
   "file_extension": ".py",
   "mimetype": "text/x-python",
   "name": "python",
   "nbconvert_exporter": "python",
   "pygments_lexer": "ipython2",
   "version": "2.7.6"
  }
 },
 "nbformat": 4,
 "nbformat_minor": 0
}